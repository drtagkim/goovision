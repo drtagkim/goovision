{
 "cells": [
  {
   "cell_type": "code",
   "execution_count": 2,
   "metadata": {
    "collapsed": false
   },
   "outputs": [],
   "source": [
    "from google.cloud import vision\n",
    "from google.cloud.vision import types"
   ]
  },
  {
   "cell_type": "code",
   "execution_count": 17,
   "metadata": {
    "collapsed": false
   },
   "outputs": [],
   "source": [
    "def detect_labels_uri(uri):\n",
    "    \"\"\"Detects labels in the file located in Google Cloud Storage or on the\n",
    "    Web.\"\"\"\n",
    "    client = vision.ImageAnnotatorClient()\n",
    "    image = types.Image()\n",
    "    image.source.image_uri = uri\n",
    "\n",
    "    response = client.label_detection(image=image)\n",
    "    labels = response.label_annotations\n",
    "    print('Labels:')\n",
    "\n",
    "    for label in labels:\n",
    "        print(label.description)"
   ]
  },
  {
   "cell_type": "code",
   "execution_count": 23,
   "metadata": {
    "collapsed": true
   },
   "outputs": [],
   "source": [
    "def detect_web_uri(uri):\n",
    "    \"\"\"Detects web annotations in the file located in Google Cloud Storage.\"\"\"\n",
    "    client = vision.ImageAnnotatorClient()\n",
    "    image = types.Image()\n",
    "    image.source.image_uri = uri\n",
    "    response = client.web_detection(image=image)\n",
    "    notes = response.web_detection\n",
    "    if notes.web_entities:\n",
    "        print ('\\n{} Web entities found: '.format(len(notes.web_entities)))\n",
    "        for entity in notes.web_entities:\n",
    "            print('Score      : {}'.format(entity.score))\n",
    "            print('Description: {}'.format(entity.description))"
   ]
  },
  {
   "cell_type": "code",
   "execution_count": null,
   "metadata": {
    "collapsed": true
   },
   "outputs": [],
   "source": [
    "url_bibimbab=\"http://mblogthumb3.phinf.naver.net/MjAxNzA0MjRfMjky/MDAxNDkzMDIzMjY5MjY5.u5q3w1Cl1wjxJoRzSpczd_VT2rScn_zaDV5LfKVMa6Mg.Tz5B-6i_SYH4yydceeZT6bNwDs-P5srXOE2uCDQ_Disg.JPEG.estelle926/151435979-56a57a083df78cf772888a61.jpg?type=w800\""
   ]
  },
  {
   "cell_type": "code",
   "execution_count": 20,
   "metadata": {
    "collapsed": false,
    "scrolled": true
   },
   "outputs": [
    {
     "name": "stdout",
     "output_type": "stream",
     "text": [
      "Labels:\n",
      "dish\n",
      "cuisine\n",
      "food\n",
      "egg\n",
      "asian food\n",
      "steamed rice\n",
      "bibimbap\n",
      "recipe\n",
      "rice\n",
      "side dish\n"
     ]
    }
   ],
   "source": [
    "detect_labels_uri(url_bibimbab)"
   ]
  },
  {
   "cell_type": "code",
   "execution_count": 24,
   "metadata": {
    "collapsed": false
   },
   "outputs": [
    {
     "name": "stdout",
     "output_type": "stream",
     "text": [
      "\n",
      "10 Web entities found: \n",
      "Score      : 6.715199947357178\n",
      "Description: South Korea\n",
      "Score      : 1.9230222702026367\n",
      "Description: Bibimbap\n",
      "Score      : 1.8432825803756714\n",
      "Description: Namul\n",
      "Score      : 0.9452000260353088\n",
      "Description: Korean cuisine\n",
      "Score      : 0.8400951623916626\n",
      "Description: Cooked rice\n",
      "Score      : 0.756600022315979\n",
      "Description: Gimbap\n",
      "Score      : 0.5231000185012817\n",
      "Description: Eating\n",
      "Score      : 0.4697999954223633\n",
      "Description: Food\n",
      "Score      : 0.4514198899269104\n",
      "Description: Recipe\n",
      "Score      : 0.39558595418930054\n",
      "Description: Egg as food\n"
     ]
    }
   ],
   "source": [
    "detect_web_uri(url_bibimbab)"
   ]
  },
  {
   "cell_type": "markdown",
   "metadata": {},
   "source": [
    "<img src=\"http://mblogthumb3.phinf.naver.net/MjAxNzA0MjRfMjky/MDAxNDkzMDIzMjY5MjY5.u5q3w1Cl1wjxJoRzSpczd_VT2rScn_zaDV5LfKVMa6Mg.Tz5B-6i_SYH4yydceeZT6bNwDs-P5srXOE2uCDQ_Disg.JPEG.estelle926/151435979-56a57a083df78cf772888a61.jpg?type=w800\" width=\"400\">"
   ]
  },
  {
   "cell_type": "code",
   "execution_count": 25,
   "metadata": {
    "collapsed": true
   },
   "outputs": [],
   "source": [
    "url_bibimbab2=\"https://t3.ftcdn.net/jpg/00/55/67/80/240_F_55678097_xeloGG2TjRWI9wQDiqTSp8lLYbww48Js.jpg\""
   ]
  },
  {
   "cell_type": "code",
   "execution_count": 26,
   "metadata": {
    "collapsed": false
   },
   "outputs": [
    {
     "name": "stdout",
     "output_type": "stream",
     "text": [
      "\n",
      "10 Web entities found: \n",
      "Score      : 5.27839994430542\n",
      "Description: South Korea\n",
      "Score      : 1.8639514446258545\n",
      "Description: Korean cuisine\n",
      "Score      : 0.8185999989509583\n",
      "Description: Bibimbap\n",
      "Score      : 0.7078999876976013\n",
      "Description: Food\n",
      "Score      : 0.590150773525238\n",
      "Description: Noodle soup\n",
      "Score      : 0.5677318572998047\n",
      "Description: Chinese cuisine\n",
      "Score      : 0.3950999975204468\n",
      "Description: Restaurant\n",
      "Score      : 0.3912999927997589\n",
      "Description: Cuisine\n",
      "Score      : 0.3717173635959625\n",
      "Description: Cooked rice\n",
      "Score      : 0.37070000171661377\n",
      "Description: Kimchi\n"
     ]
    }
   ],
   "source": [
    "detect_web_uri(url_bibimbab2)"
   ]
  },
  {
   "cell_type": "markdown",
   "metadata": {},
   "source": [
    "<img src=\"https://t3.ftcdn.net/jpg/00/55/67/80/240_F_55678097_xeloGG2TjRWI9wQDiqTSp8lLYbww48Js.jpg\" width=\"400\">"
   ]
  },
  {
   "cell_type": "code",
   "execution_count": null,
   "metadata": {
    "collapsed": true
   },
   "outputs": [],
   "source": []
  }
 ],
 "metadata": {
  "kernelspec": {
   "display_name": "Python 3",
   "language": "python",
   "name": "python3"
  },
  "language_info": {
   "codemirror_mode": {
    "name": "ipython",
    "version": 3
   },
   "file_extension": ".py",
   "mimetype": "text/x-python",
   "name": "python",
   "nbconvert_exporter": "python",
   "pygments_lexer": "ipython3",
   "version": "3.6.0"
  }
 },
 "nbformat": 4,
 "nbformat_minor": 2
}
